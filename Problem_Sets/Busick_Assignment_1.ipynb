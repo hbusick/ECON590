{
 "cells": [
  {
   "cell_type": "markdown",
   "metadata": {},
   "source": [
    "# UNC Chapel Hill, Econ 590, Spring 2025\n",
    "# Assignment 1\n",
    "# Hunter Busick"
   ]
  },
  {
   "cell_type": "markdown",
   "metadata": {},
   "source": [
    "## Exercise 1"
   ]
  },
  {
   "cell_type": "markdown",
   "metadata": {},
   "source": [
    "### Exercise 1.1"
   ]
  },
  {
   "cell_type": "markdown",
   "metadata": {},
   "source": [
    "Functions are essential for keeping our work both efficient and organized. Functions allow us to define a set of inputs, operations those inputs will undergo, and what we will get back out from the function. We can think of functions as machines that we put our variables into that manipulate or analyze them and give us an altered version of the input, or something entirely new. Functions are especially helpful because they allow us to quickly perform the same action time and time again without typing out the entire formula multiple times. For instance, if we needed to add, multiply, subtract, then divide a number in that order, we could define a function that does this process once, then every following time just call the function to save us time. An added perk of functions is that if we find an error, we can just fix the function definition rather than having to fix each individual time we called that function."
   ]
  },
  {
   "cell_type": "markdown",
   "metadata": {},
   "source": [
    "### Exercise 1.2"
   ]
  },
  {
   "cell_type": "code",
   "execution_count": 2,
   "metadata": {},
   "outputs": [
    {
     "data": {
      "text/plain": [
       "[1, 1, 2, 3, 5, 8, 13, 21]"
      ]
     },
     "execution_count": 2,
     "metadata": {},
     "output_type": "execute_result"
    }
   ],
   "source": [
    "def get_fibonacci_sequence(n):\n",
    "    \"\"\"\n",
    "    Takes n as an input and returns the n first integers of the fibonacci sequence \n",
    "    note that the sequence begins with an initialized list of two 1's\n",
    "    \"\"\"\n",
    "    if n <= 0 : #if the user requests an incompatible number of integers\n",
    "        return [] #give them back an empty list \n",
    "    \n",
    "    fibonacci = [1,1] #initialize the first two numbers of the sequence \n",
    "\n",
    "    while len(fibonacci) < n: #so long as we need more numbers to reach n\n",
    "        num_to_add = fibonacci[-1] + fibonacci[-2] #the next number in the sequence can be accessed by adding the values found at the last two indicies \n",
    "        fibonacci.append(num_to_add) #add this next number to the end of of the sequence \n",
    "\n",
    "    return fibonacci\n",
    "\n",
    "get_fibonacci_sequence(8) #should return 1,1,2,3,5,8,13,21"
   ]
  },
  {
   "cell_type": "markdown",
   "metadata": {},
   "source": [
    "As we can see this returns the first 8 digits of the fibonacci sequence "
   ]
  },
  {
   "cell_type": "markdown",
   "metadata": {},
   "source": [
    "### Exercise 1.3"
   ]
  },
  {
   "cell_type": "markdown",
   "metadata": {},
   "source": [
    "When we run this code, the first element in list1 will also be changed to the value 42. This is because when we define newlist as being equal to list1, we are essentially making newlist a reference to the list found at list1. If we want newlist to be its own item in memory, there are a couple of different ways we can make sure it operates independently of list1. Instead of saying newlist = list1, we could just define newlist as the same set of numbers as we initially used when forming list1. This would create a new object in our memory. We could also call it a list when we define it by using newlist = list(list1). This will also create a separate item in memory that operates separate from the other."
   ]
  },
  {
   "cell_type": "markdown",
   "metadata": {},
   "source": [
    "## Exercise 2"
   ]
  },
  {
   "cell_type": "markdown",
   "metadata": {},
   "source": [
    "Using modules is a good programming practice as it not only allows you to keep your work clean and organized, but also aides in others being able to access and run your code. When we have a module with functions inside of it we are able to import this module into whatever file or script we are working in and can then access those functions from the module in that script. Thus, if we have a function or series of functions that we know we are going to use in multiple different places, we can put them in a module and then just import the module in each of those locations rather than risk copying and pasting for each instance. This also goes back to the function argument, that if we are importing modules and find a bug with a function, we only need to fix the module rather than if we had typed everything out each time."
   ]
  },
  {
   "cell_type": "markdown",
   "metadata": {},
   "source": [
    "## Exercise 3 (3.1 - 3.6)"
   ]
  },
  {
   "cell_type": "code",
   "execution_count": 10,
   "metadata": {},
   "outputs": [],
   "source": [
    "class Consumer:\n",
    "    def __init__(self, name, energy = 100, cash = 0, hunger = 0, skill = 0):\n",
    "        self.name = name\n",
    "        self.energy = energy\n",
    "        self.__cash = cash\n",
    "        self.hunger = hunger\n",
    "        self.skill = skill\n",
    "\n",
    "    def get_cash(self):\n",
    "        \"\"\"\n",
    "        returns the current amount of cash for the consumer\n",
    "        \"\"\"\n",
    "        return self.__cash\n",
    "    \n",
    "    def study(self):\n",
    "        \"\"\"\n",
    "        increases the consumers skill if they have energy\n",
    "        reduces energy and hunger levels \n",
    "        \"\"\"\n",
    "        if self.energy < 10:\n",
    "            print(\"No energy for studying!\")\n",
    "        else:\n",
    "            print(\"Studying...\")\n",
    "            if self.skill >= 96:\n",
    "                self.skill = 100 #manually set to 100 so we do not go over 100\n",
    "            else:\n",
    "                self.skill += 5\n",
    "            self.energy -= 10\n",
    "            self.hunger += 5\n",
    "\n",
    "    def eat(self):\n",
    "        \"\"\"\n",
    "        decreases hunger if the consumer can afford it \n",
    "        \"\"\"\n",
    "    "
   ]
  },
  {
   "cell_type": "markdown",
   "metadata": {},
   "source": [
    "## Exercise 4"
   ]
  },
  {
   "cell_type": "markdown",
   "metadata": {},
   "source": [
    "### Exercise 4.1"
   ]
  },
  {
   "cell_type": "markdown",
   "metadata": {},
   "source": [
    "[Text] provide your answer here."
   ]
  },
  {
   "cell_type": "markdown",
   "metadata": {},
   "source": [
    "### Exercise 4.2"
   ]
  },
  {
   "cell_type": "markdown",
   "metadata": {},
   "source": [
    "[Text] provide your answer here."
   ]
  },
  {
   "cell_type": "markdown",
   "metadata": {},
   "source": [
    "### Exercise 4.3"
   ]
  },
  {
   "cell_type": "code",
   "execution_count": 11,
   "metadata": {},
   "outputs": [],
   "source": [
    "# [Code] provide your answer here. "
   ]
  },
  {
   "cell_type": "markdown",
   "metadata": {},
   "source": [
    "### Exercise 4.4"
   ]
  },
  {
   "cell_type": "code",
   "execution_count": 12,
   "metadata": {},
   "outputs": [],
   "source": [
    "# [Code] provide your answer here. "
   ]
  },
  {
   "cell_type": "markdown",
   "metadata": {},
   "source": [
    "### Exercise 4.5"
   ]
  },
  {
   "cell_type": "code",
   "execution_count": 13,
   "metadata": {},
   "outputs": [],
   "source": [
    "# [Code] provide your answer here. "
   ]
  },
  {
   "cell_type": "markdown",
   "metadata": {},
   "source": [
    "## Exercise 5"
   ]
  },
  {
   "cell_type": "markdown",
   "metadata": {},
   "source": [
    "### Exercise 5.1"
   ]
  },
  {
   "cell_type": "markdown",
   "metadata": {},
   "source": [
    "[Text] provide your answer here."
   ]
  },
  {
   "cell_type": "markdown",
   "metadata": {},
   "source": [
    "### Exercise 5.2"
   ]
  },
  {
   "cell_type": "markdown",
   "metadata": {},
   "source": [
    "#### Exercise 5.2 (a)"
   ]
  },
  {
   "cell_type": "code",
   "execution_count": 14,
   "metadata": {},
   "outputs": [],
   "source": [
    "# [Code] provide your answer here. "
   ]
  },
  {
   "cell_type": "markdown",
   "metadata": {},
   "source": [
    "#### Exercise 5.2 (b)"
   ]
  },
  {
   "cell_type": "code",
   "execution_count": 15,
   "metadata": {},
   "outputs": [],
   "source": [
    "# [Code] provide your answer here. "
   ]
  },
  {
   "cell_type": "markdown",
   "metadata": {},
   "source": [
    "#### Exercise 5.2 (c)"
   ]
  },
  {
   "cell_type": "code",
   "execution_count": 16,
   "metadata": {},
   "outputs": [],
   "source": [
    "# [Code] provide your answer here. "
   ]
  },
  {
   "cell_type": "markdown",
   "metadata": {},
   "source": [
    "#### Exercise 5.2 (d)"
   ]
  },
  {
   "cell_type": "code",
   "execution_count": 17,
   "metadata": {},
   "outputs": [],
   "source": [
    "# [Code] provide your answer here. "
   ]
  },
  {
   "cell_type": "markdown",
   "metadata": {},
   "source": []
  },
  {
   "cell_type": "code",
   "execution_count": null,
   "metadata": {},
   "outputs": [],
   "source": []
  },
  {
   "cell_type": "code",
   "execution_count": null,
   "metadata": {},
   "outputs": [],
   "source": []
  }
 ],
 "metadata": {
  "kernelspec": {
   "display_name": "base",
   "language": "python",
   "name": "python3"
  },
  "language_info": {
   "codemirror_mode": {
    "name": "ipython",
    "version": 3
   },
   "file_extension": ".py",
   "mimetype": "text/x-python",
   "name": "python",
   "nbconvert_exporter": "python",
   "pygments_lexer": "ipython3",
   "version": "3.12.7"
  }
 },
 "nbformat": 4,
 "nbformat_minor": 2
}
