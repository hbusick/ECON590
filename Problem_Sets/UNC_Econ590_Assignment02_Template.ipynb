{
 "cells": [
  {
   "cell_type": "markdown",
   "id": "0072fb4a",
   "metadata": {},
   "source": [
    "### Name:\n",
    "### PID:"
   ]
  },
  {
   "cell_type": "markdown",
   "id": "84140f2b",
   "metadata": {},
   "source": [
    "# Exercise 1\n",
    "## Excercise 1, a)"
   ]
  },
  {
   "cell_type": "code",
   "execution_count": null,
   "id": "90dd68ec-573f-4444-b347-64c9ae42ab1d",
   "metadata": {},
   "outputs": [],
   "source": []
  },
  {
   "cell_type": "code",
   "execution_count": null,
   "id": "56424d05",
   "metadata": {},
   "outputs": [],
   "source": []
  },
  {
   "cell_type": "markdown",
   "id": "0834525c",
   "metadata": {},
   "source": [
    "## Excercise 1, b)"
   ]
  },
  {
   "cell_type": "code",
   "execution_count": null,
   "id": "41c6bda1",
   "metadata": {},
   "outputs": [],
   "source": []
  },
  {
   "cell_type": "code",
   "execution_count": null,
   "id": "99e79f97",
   "metadata": {},
   "outputs": [],
   "source": []
  },
  {
   "cell_type": "markdown",
   "id": "6bb2b9b5",
   "metadata": {},
   "source": [
    "# Exercise 2\n",
    "## Excercise 2, a)\n"
   ]
  },
  {
   "cell_type": "code",
   "execution_count": null,
   "id": "504b4fbc-5c6e-48d8-85f4-cad23a7c246e",
   "metadata": {},
   "outputs": [],
   "source": []
  },
  {
   "cell_type": "code",
   "execution_count": null,
   "id": "e41104ab",
   "metadata": {},
   "outputs": [],
   "source": []
  },
  {
   "cell_type": "code",
   "execution_count": null,
   "id": "2f914eca-08dd-472a-a968-35c699d83e7e",
   "metadata": {},
   "outputs": [],
   "source": []
  },
  {
   "cell_type": "markdown",
   "id": "5f252a9b",
   "metadata": {},
   "source": [
    "## Exercise 2, b)"
   ]
  },
  {
   "cell_type": "code",
   "execution_count": null,
   "id": "7863160a",
   "metadata": {},
   "outputs": [],
   "source": []
  },
  {
   "cell_type": "code",
   "execution_count": null,
   "id": "ab38dd0c",
   "metadata": {},
   "outputs": [],
   "source": []
  },
  {
   "cell_type": "markdown",
   "id": "ad9f9965",
   "metadata": {},
   "source": [
    "## Exercise 2 c)"
   ]
  },
  {
   "cell_type": "code",
   "execution_count": null,
   "id": "9f6ea974-8856-4e8c-bddf-f94ab1769ad2",
   "metadata": {},
   "outputs": [],
   "source": []
  },
  {
   "cell_type": "code",
   "execution_count": null,
   "id": "66288415",
   "metadata": {},
   "outputs": [],
   "source": []
  },
  {
   "cell_type": "markdown",
   "id": "b9aa13a4",
   "metadata": {},
   "source": [
    "## Exercise 2, d)"
   ]
  },
  {
   "cell_type": "code",
   "execution_count": null,
   "id": "9607b7dd",
   "metadata": {},
   "outputs": [],
   "source": []
  },
  {
   "cell_type": "code",
   "execution_count": null,
   "id": "cc7694b2-9ce8-4bf9-ba9f-801e82624764",
   "metadata": {},
   "outputs": [],
   "source": []
  },
  {
   "cell_type": "code",
   "execution_count": null,
   "id": "308919bd",
   "metadata": {},
   "outputs": [],
   "source": []
  },
  {
   "cell_type": "code",
   "execution_count": null,
   "id": "2753fd82-b3f3-43ad-971e-de02c9b738e5",
   "metadata": {},
   "outputs": [],
   "source": []
  },
  {
   "cell_type": "markdown",
   "id": "c766393d",
   "metadata": {},
   "source": [
    "## Exercise 2, e)"
   ]
  },
  {
   "cell_type": "code",
   "execution_count": null,
   "id": "c6e95cc5-5486-4c88-85d1-d188c5399490",
   "metadata": {},
   "outputs": [],
   "source": []
  },
  {
   "cell_type": "code",
   "execution_count": null,
   "id": "56f6674c",
   "metadata": {},
   "outputs": [],
   "source": []
  },
  {
   "cell_type": "code",
   "execution_count": null,
   "id": "08660b4e-13d0-4450-b680-cb6c0f5f7292",
   "metadata": {},
   "outputs": [],
   "source": []
  },
  {
   "cell_type": "markdown",
   "id": "29a30747",
   "metadata": {},
   "source": [
    "## Exercise 2, f)"
   ]
  },
  {
   "cell_type": "code",
   "execution_count": null,
   "id": "e0da0aff",
   "metadata": {},
   "outputs": [],
   "source": [
    "# computations here"
   ]
  },
  {
   "cell_type": "code",
   "execution_count": 1,
   "id": "01353cfd",
   "metadata": {},
   "outputs": [],
   "source": [
    "# computations here"
   ]
  },
  {
   "cell_type": "code",
   "execution_count": null,
   "id": "84dbdc0f",
   "metadata": {},
   "outputs": [],
   "source": [
    "# computations here"
   ]
  },
  {
   "cell_type": "code",
   "execution_count": null,
   "id": "34d6365c-ca9a-4400-a6da-0e379b1a84b5",
   "metadata": {},
   "outputs": [],
   "source": [
    "# computations here"
   ]
  },
  {
   "cell_type": "markdown",
   "id": "fae6238f",
   "metadata": {},
   "source": [
    "Writing here:\n",
    "\n",
    "\n",
    "\n"
   ]
  }
 ],
 "metadata": {
  "kernelspec": {
   "display_name": "base",
   "language": "python",
   "name": "python3"
  },
  "language_info": {
   "codemirror_mode": {
    "name": "ipython",
    "version": 3
   },
   "file_extension": ".py",
   "mimetype": "text/x-python",
   "name": "python",
   "nbconvert_exporter": "python",
   "pygments_lexer": "ipython3",
   "version": "3.9.13"
  }
 },
 "nbformat": 4,
 "nbformat_minor": 5
}
