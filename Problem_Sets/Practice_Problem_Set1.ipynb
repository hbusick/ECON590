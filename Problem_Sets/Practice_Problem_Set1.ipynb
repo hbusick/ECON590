{
 "cells": [
  {
   "cell_type": "markdown",
   "metadata": {},
   "source": [
    "# Practice Problem 1"
   ]
  },
  {
   "cell_type": "markdown",
   "metadata": {},
   "source": [
    "# A"
   ]
  },
  {
   "cell_type": "code",
   "execution_count": 18,
   "metadata": {},
   "outputs": [],
   "source": [
    "import numpy as np"
   ]
  },
  {
   "cell_type": "code",
   "execution_count": 19,
   "metadata": {},
   "outputs": [],
   "source": [
    "def optcond(x, w, r, beta):\n",
    "    \"\"\"\n",
    "    Function takes choices x (2 dim array, with entries ([h, s]), and parameters w, r, and beta \n",
    "    and returns a 2 dim array containing the errors and optamality conditions.\n",
    "    \"\"\"\n",
    "    # read out choices given by x\n",
    "    h = x[0]\n",
    "    s = x[1]\n",
    "\n",
    "    # compute implied consumption\n",
    "    c1 = h * w - s\n",
    "    c2 = s * (1 + r)\n",
    "\n",
    "    # compute errors in the opt conditions \n",
    "    # optimality labor choice\n",
    "    error1 = (1 / (c1 ** 0.5)) * w - h\n",
    "\n",
    "    # optimality savings choice \n",
    "    error2 = -(1 / (c1 ** 0.5)) + beta * (1/ (c2 ** 0.5)) * (1 + r)\n",
    "\n",
    "    #put the two errors into a vector \n",
    "    error = np.array([error1, error2])\n",
    "\n",
    "    return error\n",
    "    \n",
    "\n"
   ]
  },
  {
   "cell_type": "code",
   "execution_count": 29,
   "metadata": {},
   "outputs": [
    {
     "data": {
      "text/plain": [
       "array([ 0.38113883, -0.94376139])"
      ]
     },
     "execution_count": 29,
     "metadata": {},
     "output_type": "execute_result"
    }
   ],
   "source": [
    "# Check whether our optcond function works using sample input \n",
    "\n",
    "w = 1\n",
    "beta = 0.5\n",
    "r = 0.3 #this seems egregiously high but it is over the course of your working life \n",
    "\n",
    "xstart = np.array([1.2, .8])\n",
    "\n",
    "optcond(xstart, w, r, beta)\n",
    "\n"
   ]
  },
  {
   "cell_type": "markdown",
   "metadata": {},
   "source": [
    "We could keep guessing to get optimal conditions, or we can optimize"
   ]
  },
  {
   "cell_type": "markdown",
   "metadata": {},
   "source": [
    "# B"
   ]
  },
  {
   "cell_type": "code",
   "execution_count": 30,
   "metadata": {},
   "outputs": [],
   "source": [
    "from scipy.optimize import root"
   ]
  },
  {
   "cell_type": "code",
   "execution_count": 32,
   "metadata": {},
   "outputs": [
    {
     "data": {
      "text/plain": [
       "array([1.09834462, 0.26940528])"
      ]
     },
     "execution_count": 32,
     "metadata": {},
     "output_type": "execute_result"
    }
   ],
   "source": [
    "w = 1\n",
    "beta = 0.5\n",
    "r = 0.3\n",
    "\n",
    "sol = root(optcond, xstart, args = (w, r, beta))\n",
    "\n",
    "sol[\"x\"]"
   ]
  },
  {
   "cell_type": "code",
   "execution_count": null,
   "metadata": {},
   "outputs": [],
   "source": []
  }
 ],
 "metadata": {
  "kernelspec": {
   "display_name": "base",
   "language": "python",
   "name": "python3"
  },
  "language_info": {
   "codemirror_mode": {
    "name": "ipython",
    "version": 3
   },
   "file_extension": ".py",
   "mimetype": "text/x-python",
   "name": "python",
   "nbconvert_exporter": "python",
   "pygments_lexer": "ipython3",
   "version": "3.12.7"
  }
 },
 "nbformat": 4,
 "nbformat_minor": 2
}
