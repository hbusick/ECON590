{
 "cells": [
  {
   "cell_type": "code",
   "execution_count": 35,
   "metadata": {},
   "outputs": [],
   "source": [
    "def get_num_deriv(f, x):\n",
    "    \"\"\"\n",
    "    Function returns the numerically compute derivative of f at x\n",
    "\n",
    "    Inputs:\n",
    "    f: function mapping from 1D to 1D\n",
    "    x: float, point at which we want evaluate the numerical derivative \n",
    "\n",
    "    returns:\n",
    "    fprime: float, numerical approximation of f'(x)\n",
    "    \"\"\"\n",
    "\n",
    "    #getting a numerical dervative of a function f at point x\n",
    "\n",
    "    h = 1e-10\n",
    "\n",
    "    fplus = f(x + h)\n",
    "    f = f(x)\n",
    "\n",
    "    fprime = (fplus - f) / h\n",
    "\n",
    "    return fprime\n",
    "\n"
   ]
  },
  {
   "cell_type": "code",
   "execution_count": 36,
   "metadata": {},
   "outputs": [],
   "source": [
    "#function to test \n",
    "def xsquaredm1(x):\n",
    "    return x ** 2 - 1 "
   ]
  },
  {
   "cell_type": "code",
   "execution_count": 37,
   "metadata": {},
   "outputs": [
    {
     "name": "stdout",
     "output_type": "stream",
     "text": [
      "2.000000165480742\n",
      "4.000000330961484\n"
     ]
    }
   ],
   "source": [
    "print(get_num_deriv(xsquaredm1, 1))\n",
    "print(get_num_deriv(xsquaredm1, 2))"
   ]
  },
  {
   "cell_type": "code",
   "execution_count": 38,
   "metadata": {},
   "outputs": [],
   "source": [
    "#program a single newton-raphson update going from xk to xk+1\n",
    "\n",
    "def newtonraphson_update(f, xk):\n",
    "    \"\"\"\n",
    "    computes the new xkplus = xk - f(xk) / f'(xk), using numerical derivatives to get f'(x).\n",
    "\n",
    "    inputs \n",
    "    f: function for which we want to perform the newton-raphson method\n",
    "    xk: float, point from the previous iteration\n",
    "\n",
    "    returns \n",
    "    xkplus1: float, the new point \n",
    "    \"\"\"\n",
    "\n",
    "    #get the derivative of f at xk\n",
    "    fpr = get_num_deriv(f, xk)\n",
    "\n",
    "    # apply formula to get the next xkplus1\n",
    "    xkplus1 = xk - f(xk) / fpr\n",
    "\n",
    "    return xkplus1"
   ]
  },
  {
   "cell_type": "code",
   "execution_count": 39,
   "metadata": {},
   "outputs": [
    {
     "name": "stdout",
     "output_type": "stream",
     "text": [
      "1.0045454624433985\n",
      "1.0000102883100048\n"
     ]
    }
   ],
   "source": [
    "xnew = newtonraphson_update(xsquaredm1, 1.1)\n",
    "print(xnew)\n",
    "xold = xnew\n",
    "xnew = newtonraphson_update(xsquaredm1, xold)\n",
    "print(xnew)"
   ]
  },
  {
   "cell_type": "code",
   "execution_count": 40,
   "metadata": {},
   "outputs": [],
   "source": [
    "# now we want to put it all together and iterate until we have found a good solution \n",
    "\n",
    "def newtonraphson_method(f, xstart, tol = 1e-8, maxiter = 1000):\n",
    "    \"\"\"\n",
    "    implements the newton raphson method to find x such that f(x) = 0. \n",
    "    the algorithm is using numerical derivatives to approximate f'(x).\n",
    "\n",
    "    inputs:\n",
    "    f: function, for which we want to find x, such that f(x) = 0\n",
    "    xstart: float, starting value for the newton raphson method \n",
    "    tol: float, tolerance determining when to stop iterating, default val is 1e-8\n",
    "    maxiter: int, maximum number of iterations, default val = 1000\n",
    "\n",
    "    return:\n",
    "    soldict: dictionary, with two keys: the key 'success' gives a boolean whether or not the algorithm converged successfully\n",
    "    the key 'sol' gives a float with the approximate root of f\n",
    "    \"\"\"\n",
    "\n",
    "    # iterate on the NR update until convergence \n",
    "    # we say the algorithm has converged when abs(f(xnew)) < tol & abs(xnew - xold) < tol\n",
    "\n",
    "    has_converged = False\n",
    "\n",
    "    #initialize the dictionary \n",
    "    soldict = {}\n",
    "\n",
    "    #initialize xold\n",
    "    xold = xstart\n",
    "\n",
    "    #count iteration\n",
    "    itercounter = 0\n",
    "\n",
    "    #while have not converged \n",
    "    while not(has_converged):\n",
    "        itercounter += 1\n",
    "        print(\"iteration = \", itercounter)\n",
    "        #update x\n",
    "        xnew = newtonraphson_update(f, xold)\n",
    "        xold = xnew\n",
    "        print(\"xnew = \", xnew)\n",
    "\n",
    "        #check convergence\n",
    "        if abs(f(xnew)) < tol and abs(xnew - xold) < tol:\n",
    "            has_converged = True\n",
    "            soldict[\"success\"] = True\n",
    "            soldict[\"sol\"] = xnew\n",
    "\n",
    "        #check whether maximum number of iterations allowed is reached\n",
    "        if itercounter > maxiter:\n",
    "            soldict[\"success\"] = False\n",
    "            soldict[\"sol\"] = xnew\n",
    "            break\n",
    "\n",
    "    return soldict\n"
   ]
  },
  {
   "cell_type": "code",
   "execution_count": 41,
   "metadata": {},
   "outputs": [
    {
     "name": "stdout",
     "output_type": "stream",
     "text": [
      "iteration =  1\n",
      "xnew =  -1.083333367808485\n",
      "iteration =  2\n",
      "xnew =  -1.0032051348349673\n",
      "iteration =  3\n",
      "xnew =  -1.0000051205502913\n",
      "iteration =  4\n",
      "xnew =  -1.0000000000157383\n"
     ]
    },
    {
     "data": {
      "text/plain": [
       "{'success': True, 'sol': -1.0000000000157383}"
      ]
     },
     "execution_count": 41,
     "metadata": {},
     "output_type": "execute_result"
    }
   ],
   "source": [
    "newtonraphson_method(xsquaredm1, -1.5)"
   ]
  },
  {
   "cell_type": "code",
   "execution_count": null,
   "metadata": {},
   "outputs": [],
   "source": []
  }
 ],
 "metadata": {
  "kernelspec": {
   "display_name": "base",
   "language": "python",
   "name": "python3"
  },
  "language_info": {
   "codemirror_mode": {
    "name": "ipython",
    "version": 3
   },
   "file_extension": ".py",
   "mimetype": "text/x-python",
   "name": "python",
   "nbconvert_exporter": "python",
   "pygments_lexer": "ipython3",
   "version": "3.12.7"
  }
 },
 "nbformat": 4,
 "nbformat_minor": 2
}
