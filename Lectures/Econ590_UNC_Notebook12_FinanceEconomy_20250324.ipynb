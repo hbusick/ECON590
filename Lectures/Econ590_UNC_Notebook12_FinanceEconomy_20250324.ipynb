{
 "cells": [
  {
   "cell_type": "code",
   "execution_count": 30,
   "id": "cd661753-bf49-448f-902c-0788877defa7",
   "metadata": {},
   "outputs": [],
   "source": [
    "import numpy as np\n",
    "from scipy.optimize import root"
   ]
  },
  {
   "cell_type": "code",
   "execution_count": 31,
   "id": "8934cdbf",
   "metadata": {},
   "outputs": [],
   "source": [
    "\n",
    "# set up the system of equations we want to solve.\n",
    "# We have three equations: two optimality conditions (one for each agent)\n",
    "# and one market clearing condition (total bond holdings must equal zero).\n",
    "# The input x will be a vector containing the three unknowns [bG, bM, p].\n",
    "\n",
    "def equ_conditions(x, beta, gamma, e1M, e2M, e1G, e2G):\n",
    "    \"\"\"\"\n",
    "    Calculate the equilibrium conditions for the two-agent economy.\n",
    "    This function computes the optimality conditions for both agents\n",
    "    and the market clearing condition based on the current guess for\n",
    "    the bond holdings and price.\n",
    "    Parameters:\n",
    "    x : a vector of floats containing the current guess for [bG, bM, p]\n",
    "    beta : float, Discount factor for the agents.\n",
    "    gamma : float, Risk aversion parameter for the agents.\n",
    "    e1M : float, Initial endowment of consumption good in period 1 for agent M.\n",
    "    e2M : float, Initial endowment of consumption good in period 2 for agent M.\n",
    "    e1G : float, Initial endowment of consumption good in period 1 for agent G.\n",
    "    e2G : float, Initial endowment of consumption good in period 2 for agent G.\n",
    "    Returns:\n",
    "    conditions : \n",
    "    An array containing the values of the three conditions:       \n",
    "    - optimality error for agent G\n",
    "    - optimality error for agent M\n",
    "    - market clearing condition\n",
    "    1. The first element is the optimality condition for agent G (ee_G).\n",
    "    2. The second element is the optimality condition for agent M (ee_M).\n",
    "    3. The third element is the market clearing condition (market_clr).\n",
    "    \"\"\"\n",
    "\n",
    "    # unpack the input vector\n",
    "    bG = x[0]\n",
    "    bM = x[1]\n",
    "    p = x[2]\n",
    "\n",
    "    #============================================================================\n",
    "    # optimality condition for G\n",
    "    #============================================================================\n",
    "    # consumption for G\n",
    "    c1G = e1G - p * bG\n",
    "    c2G = e2G + bG\n",
    "\n",
    "    # optimality error for G\n",
    "    ee_G = -p * c1G ** (-gamma) + beta * c2G ** (-gamma)\n",
    "    \n",
    "    #============================================================================\n",
    "    # optimality condition for M\n",
    "    #============================================================================\n",
    "    # consumption for M\n",
    "    c1M = e1M - p * bM\n",
    "    c2M = e2M + bM\n",
    "\n",
    "    # optimality error for M\n",
    "    ee_M = -p * c1M ** (-gamma) + beta * c2M ** (-gamma)\n",
    "    \n",
    "    #============================================================================\n",
    "    # market clearing condition\n",
    "    #============================================================================\n",
    "    # total bond holdings must equal zero\n",
    "    market_clr = bG + bM\n",
    "\n",
    "    #============================================================================\n",
    "    # put the conditions into a single array\n",
    "    #============================================================================\n",
    "    conditions = np.array([ee_G, ee_M, market_clr])\n",
    "\n",
    "    return conditions"
   ]
  },
  {
   "cell_type": "code",
   "execution_count": 32,
   "id": "22d8a8b8-1b66-4412-a02d-278374c28ca5",
   "metadata": {},
   "outputs": [],
   "source": [
    "def get_equilibrium(beta, gamma, e1M, e2M, e1G, e2G):\n",
    "    \"\"\"\n",
    "    Calculate the equilibrium for a two-agent finance\n",
    "    economy from the exercise in lecture 12.\n",
    "\n",
    "    Given parameters the function computes the equilibrium values\n",
    "    for the two agents (G and M) in terms of their bond holdings\n",
    "    (bG and bM), the price of the bond (p), their consumption levels\n",
    "    (c1G, c2G for agent G and c1M, c2M for agent M), and their utility\n",
    "    levels (VG for agent G and VM for agent M).\n",
    "\n",
    "    Parameters:\n",
    "    beta : float, Discount factor for the agents.\n",
    "    gamma : float, Risk aversion parameter for the agents.\n",
    "    e1M : float, Initial endowment of consumption good in period 1 for agent M.\n",
    "    e2M : float, Initial endowment of consumption good in period 2 for agent M.\n",
    "    e1G : float, Initial endowment of consumption good in period 1 for agent G.\n",
    "    e2G : float, Initial endowment of consumption good in period 2 for agent G.\n",
    "\n",
    "    Returns:\n",
    "    equilibrium : dict\n",
    "        A dictionary containing the equilibrium values:\n",
    "        - 'bG': bond holding for agent G\n",
    "        - 'bM': bond holding for agent M\n",
    "        - 'p': price of the bond\n",
    "        - 'c1G': consumption level for agent G in period 1\n",
    "        - 'c2G': consumption level for agent G in period 2\n",
    "        - 'c1M': consumption level for agent M in period 1\n",
    "        - 'c2M': consumption level for agent M in period 2\n",
    "        - 'VG': utility level for agent G\n",
    "        - 'VM': utility level for agent M\n",
    "    \"\"\" \n",
    "\n",
    "    \n",
    "    # initial guess for the root-finding\n",
    "    bGinit = 0.1  # initial guess for bond holding of agent G\n",
    "    bMinit = 0.1  # initial guess for bond holding of agent M\n",
    "    pinit = 1.0   # initial guess for the price of the bond\n",
    "\n",
    "    # create an initial guess vector [bG, bM, p]\n",
    "    initial_guess = np.array([bGinit, bMinit, pinit])\n",
    "\n",
    "    # use scipy's root function to find the equilibrium\n",
    "    solution = root(equ_conditions, initial_guess, args=(beta, gamma, e1M, e2M, e1G, e2G), method='hybr')\n",
    "\n",
    "    # check if the root-finding was successful\n",
    "    assert solution.success, \"Root finding did not converge: \" + solution.message\n",
    "\n",
    "    # extract the equilibrium values\n",
    "    bG = solution.x[0]\n",
    "    bM = solution.x[1]\n",
    "    p = solution.x[2]\n",
    "\n",
    "    # calculate the consumption levels\n",
    "    c1G = e1G - p * bG\n",
    "    c2G = e2G + bG\n",
    "    c1M = e1M - p * bM\n",
    "    c2M = e2M + bM\n",
    "\n",
    "    # calculate the utility levels\n",
    "    VG = c1G ** (1 - gamma) / (1 - gamma) + beta * c2G ** (1 - gamma) / (1 - gamma)\n",
    "    VM = c1M ** (1 - gamma) / (1 - gamma) + beta * c2M ** (1 - gamma) / (1 - gamma)\n",
    "\n",
    "    # put everything into a dictionary to return\n",
    "    equilibrium = {\n",
    "        'bG': bG,\n",
    "        'bM': bM,\n",
    "        'p': p,\n",
    "        'c1G': c1G,\n",
    "        'c2G': c2G,\n",
    "        'c1M': c1M,\n",
    "        'c2M': c2M,\n",
    "        'VG': VG,\n",
    "        'VM': VM\n",
    "    }\n",
    "    return equilibrium"
   ]
  },
  {
   "cell_type": "code",
   "execution_count": 33,
   "id": "7995abcc-e5d9-4180-9840-4048f9462b1c",
   "metadata": {},
   "outputs": [
    {
     "name": "stdout",
     "output_type": "stream",
     "text": [
      "2.1\n",
      "bG: -0.000000\n",
      "bM: 0.000000\n",
      "p: 0.800000\n",
      "c1G: 1.000000\n",
      "c2G: 1.000000\n",
      "c1M: 1.000000\n",
      "c2M: 1.000000\n",
      "VG: -1.800000\n",
      "VM: -1.800000\n",
      " \n"
     ]
    }
   ],
   "source": [
    "beta = 0.8\n",
    "gamma = 2.0\n",
    "\n",
    "e1M = 1.0\n",
    "e2M = 1.0\n",
    "e1G = 1.0\n",
    "e2G = 1.0\n",
    "print(\"2.1\")\n",
    "eq1 = get_equilibrium(beta, gamma, e1M, e2M, e1G, e2G)\n",
    "for key, value in eq1.items():\n",
    "    print(f\"{key}: {value:.6f}\")\n",
    "print(\" \")\n"
   ]
  },
  {
   "cell_type": "code",
   "execution_count": 34,
   "id": "3abf4e25-8fbb-4790-938d-da866d562bac",
   "metadata": {},
   "outputs": [
    {
     "name": "stdout",
     "output_type": "stream",
     "text": [
      "2.2\n",
      "bG: 0.000000\n",
      "bM: -0.000000\n",
      "p: 0.200000\n",
      "c1G: 1.000000\n",
      "c2G: 2.000000\n",
      "c1M: 1.000000\n",
      "c2M: 2.000000\n",
      "VG: -1.400000\n",
      "VM: -1.400000\n",
      " \n"
     ]
    }
   ],
   "source": [
    "\n",
    "e1M = 1.0\n",
    "e2M = 2.0\n",
    "e1G = 1.0\n",
    "e2G = 2.0\n",
    "print(\"2.2\")\n",
    "eq2 = get_equilibrium(beta, gamma, e1M, e2M, e1G, e2G)\n",
    "for key, value in eq2.items():\n",
    "    print(f\"{key}: {value:.6f}\")\n",
    "print(\" \")"
   ]
  },
  {
   "cell_type": "code",
   "execution_count": 35,
   "id": "a2ef9549",
   "metadata": {},
   "outputs": [
    {
     "name": "stdout",
     "output_type": "stream",
     "text": [
      "2.3\n",
      "bG: -0.000000\n",
      "bM: 0.000000\n",
      "p: 0.088889\n",
      "c1G: 1.000000\n",
      "c2G: 3.000000\n",
      "c1M: 1.000000\n",
      "c2M: 3.000000\n",
      "VG: -1.266667\n",
      "VM: -1.266667\n",
      " \n"
     ]
    }
   ],
   "source": [
    "\n",
    "e1M = 1.0\n",
    "e2M = 3.0\n",
    "e1G = 1.0\n",
    "e2G = 3.0\n",
    "print(\"2.3\")\n",
    "eq3 = get_equilibrium(beta, gamma, e1M, e2M, e1G, e2G)\n",
    "for key, value in eq3.items():\n",
    "    print(f\"{key}: {value:.6f}\")\n",
    "print(\" \")\n"
   ]
  },
  {
   "cell_type": "code",
   "execution_count": 36,
   "id": "f5fde8a9",
   "metadata": {},
   "outputs": [
    {
     "name": "stdout",
     "output_type": "stream",
     "text": [
      "2.4\n",
      "bG: 0.555556\n",
      "bM: -0.555556\n",
      "p: 0.800000\n",
      "c1G: 1.555556\n",
      "c2G: 1.555556\n",
      "c1M: 1.444444\n",
      "c2M: 1.444444\n",
      "VG: -1.157143\n",
      "VM: -1.246154\n"
     ]
    }
   ],
   "source": [
    "e1M = 1.0\n",
    "e2M = 2.0\n",
    "e1G = 2.0\n",
    "e2G = 1.0\n",
    "print(\"2.4\")\n",
    "eq4 = get_equilibrium(beta, gamma, e1M, e2M, e1G, e2G)\n",
    "for key, value in eq4.items():\n",
    "    print(f\"{key}: {value:.6f}\")\n"
   ]
  },
  {
   "cell_type": "code",
   "execution_count": 37,
   "id": "f9e09255",
   "metadata": {},
   "outputs": [
    {
     "name": "stdout",
     "output_type": "stream",
     "text": [
      "2.5\n",
      "bG: -0.555556\n",
      "bM: 0.555556\n",
      "p: 0.800000\n",
      "c1G: 1.944444\n",
      "c2G: 1.944444\n",
      "c1M: 1.055556\n",
      "c2M: 1.055556\n",
      "VG: -0.925714\n",
      "VM: -1.705263\n"
     ]
    }
   ],
   "source": [
    "e1M = 1.5\n",
    "e2M = 0.5\n",
    "e1G = 1.5\n",
    "e2G = 2.5\n",
    "print(\"2.5\")\n",
    "eq5 = get_equilibrium(beta, gamma, e1M, e2M, e1G, e2G)\n",
    "for key, value in eq5.items():\n",
    "    print(f\"{key}: {value:.6f}\")"
   ]
  },
  {
   "cell_type": "code",
   "execution_count": 38,
   "id": "ff28d737",
   "metadata": {},
   "outputs": [
    {
     "name": "stdout",
     "output_type": "stream",
     "text": [
      "2.6\n",
      "bG: 0.666667\n",
      "bM: -0.666667\n",
      "p: 0.800000\n",
      "c1G: 1.166667\n",
      "c2G: 1.166667\n",
      "c1M: 1.833333\n",
      "c2M: 1.833333\n",
      "VG: -1.542857\n",
      "VM: -0.981818\n"
     ]
    }
   ],
   "source": [
    "e1M = 1.3\n",
    "e2M = 2.5\n",
    "e1G = 1.7\n",
    "e2G = 0.5\n",
    "print(\"2.6\")\n",
    "eq6 = get_equilibrium(beta, gamma, e1M, e2M, e1G, e2G)\n",
    "for key, value in eq6.items():\n",
    "    print(f\"{key}: {value:.6f}\")"
   ]
  },
  {
   "cell_type": "code",
   "execution_count": null,
   "id": "9d1876c1",
   "metadata": {},
   "outputs": [],
   "source": []
  },
  {
   "cell_type": "code",
   "execution_count": null,
   "id": "3af273ed",
   "metadata": {},
   "outputs": [],
   "source": []
  },
  {
   "cell_type": "code",
   "execution_count": null,
   "id": "da925dfb",
   "metadata": {},
   "outputs": [],
   "source": []
  },
  {
   "cell_type": "code",
   "execution_count": null,
   "id": "47f5a9b4",
   "metadata": {},
   "outputs": [],
   "source": []
  },
  {
   "cell_type": "code",
   "execution_count": null,
   "id": "d8c44d11",
   "metadata": {},
   "outputs": [],
   "source": []
  },
  {
   "cell_type": "code",
   "execution_count": null,
   "id": "7af10214",
   "metadata": {},
   "outputs": [],
   "source": []
  },
  {
   "cell_type": "code",
   "execution_count": null,
   "id": "0014dfe9",
   "metadata": {},
   "outputs": [],
   "source": []
  },
  {
   "cell_type": "code",
   "execution_count": null,
   "id": "bd789494",
   "metadata": {},
   "outputs": [],
   "source": []
  },
  {
   "cell_type": "code",
   "execution_count": null,
   "id": "da445daf",
   "metadata": {},
   "outputs": [],
   "source": []
  }
 ],
 "metadata": {
  "kernelspec": {
   "display_name": "base",
   "language": "python",
   "name": "python3"
  },
  "language_info": {
   "codemirror_mode": {
    "name": "ipython",
    "version": 3
   },
   "file_extension": ".py",
   "mimetype": "text/x-python",
   "name": "python",
   "nbconvert_exporter": "python",
   "pygments_lexer": "ipython3",
   "version": "3.9.13"
  }
 },
 "nbformat": 4,
 "nbformat_minor": 5
}
